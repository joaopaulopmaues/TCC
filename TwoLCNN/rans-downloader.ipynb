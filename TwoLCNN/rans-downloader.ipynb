{
 "cells": [
  {
   "cell_type": "code",
   "execution_count": 2,
   "metadata": {},
   "outputs": [],
   "source": [
    "import os\n",
    "import time\n",
    "from selenium import webdriver\n",
    "from selenium.webdriver.support.wait import WebDriverWait\n",
    "from selenium.webdriver.support import expected_conditions as EC\n",
    "from selenium.webdriver.common.by import By\n",
    "from watchdog.observers import Observer\n",
    "from watchdog.events import FileSystemEventHandler\n",
    "from webdriver_manager.chrome import ChromeDriverManager\n",
    "from selenium.webdriver.chrome.service import Service\n",
    "from selenium.webdriver.common.action_chains import ActionChains"
   ]
  },
  {
   "cell_type": "markdown",
   "metadata": {},
   "source": [
    "# Opening the Google Chrome browser"
   ]
  },
  {
   "cell_type": "code",
   "execution_count": 2,
   "metadata": {},
   "outputs": [],
   "source": [
    "# Caminho para a pasta de Downloads\n",
    "download_folder = os.path.expanduser('/Users/joaopaulopmaues/Downloads/')\n",
    "\n",
    "# Configurações do Chrome para downloads automáticos\n",
    "chrome_options = webdriver.ChromeOptions()\n",
    "chrome_options.add_experimental_option('prefs', {\n",
    "    \"download.default_directory\": download_folder,  # Define a pasta de downloads\n",
    "    \"download.prompt_for_download\": False,          # Não mostrar prompt para download\n",
    "    \"download.directory_upgrade\": True,             # Atualiza automaticamente o diretório\n",
    "    \"safebrowsing.enabled\": True                    # Habilita downloads seguros\n",
    "})\n",
    "chrome_options.add_argument(\"--start-maximized\")  # Maximiza o navegador\n",
    "browser = webdriver.Chrome(service=Service(ChromeDriverManager().install()), options=chrome_options)\n",
    "wait = WebDriverWait(browser, timeout=20)\n"
   ]
  },
  {
   "cell_type": "markdown",
   "metadata": {},
   "source": [
    "# Getting the hashes of the malware collection"
   ]
  },
  {
   "cell_type": "markdown",
   "metadata": {},
   "source": [
    "## Searching YARA rules for each ransomware family"
   ]
  },
  {
   "cell_type": "code",
   "execution_count": 3,
   "metadata": {},
   "outputs": [
    {
     "name": "stdout",
     "output_type": "stream",
     "text": [
      "error\n"
     ]
    }
   ],
   "source": [
    "rname=['black','wannacry']\n",
    "for el in rname:\n",
    "    url='https://valhalla.nextron-systems.com/info/search?keyword=Detects+'+el+'+ransomware'\n",
    "    browser.get(url)\n",
    "    #browser.get('https://valhalla.nextron-systems.com/info/search?keyword=Detects+black+ransomware')\n",
    "    try:\n",
    "        wait.until(EC.presence_of_element_located(\n",
    "            ('xpath','/html/body/section/section/div[3]/div[2]/div[2]')))\n",
    "    except:\n",
    "        print('error')\n",
    "        continue\n",
    "        #get the other ransomware from the list"
   ]
  },
  {
   "cell_type": "code",
   "execution_count": 6,
   "metadata": {},
   "outputs": [
    {
     "name": "stdout",
     "output_type": "stream",
     "text": [
      "error\n"
     ]
    }
   ],
   "source": [
    "\n",
    "browser.get(url)\n",
    "#browser.get('https://valhalla.nextron-systems.com/info/search?keyword=Detects+black+ransomware')\n",
    "try:\n",
    "    wait.until(EC.presence_of_element_located(\n",
    "        ('xpath','/html/body/section/section/div[3]/div[2]/div[2]')))\n",
    "except:\n",
    "    print('error')\n",
    "    #get the other ransomware from the list"
   ]
  },
  {
   "cell_type": "code",
   "execution_count": 3,
   "metadata": {},
   "outputs": [
    {
     "data": {
      "text/plain": [
       "<selenium.webdriver.remote.webelement.WebElement (session=\"4e5faf37581128b2823a3eb0a86bb0b2\", element=\"f.24AF08C05731E2ED63B0ADE35F7205AF.d.9703109F07709E9867FBE7882E464449.e.3\")>"
      ]
     },
     "execution_count": 3,
     "metadata": {},
     "output_type": "execute_result"
    }
   ],
   "source": [
    "\n",
    "browser.get('https://valhalla.nextron-systems.com/info/search?keyword=Detects+Akira+ransomware')\n",
    "wait.until(EC.presence_of_element_located(\n",
    "    ('xpath','/html/body/section/section/div[3]/div[2]/div[2]')))\n"
   ]
  },
  {
   "cell_type": "markdown",
   "metadata": {},
   "source": [
    "### Retrieving the YARA rules' name"
   ]
  },
  {
   "cell_type": "code",
   "execution_count": 13,
   "metadata": {},
   "outputs": [],
   "source": [
    "YARA=[]#list\n",
    "x=0+2\n",
    "while True:\n",
    "    s=\"(//*[contains(@class, 'tcell')])[\"+str(x)+\"]\"\n",
    "    try:\n",
    "        YARA.append(browser.find_element('xpath',s).text)\n",
    "    except Exception as e:\n",
    "        break\n",
    "    x+=8\n"
   ]
  },
  {
   "cell_type": "code",
   "execution_count": 14,
   "metadata": {},
   "outputs": [
    {
     "data": {
      "text/plain": [
       "[]"
      ]
     },
     "execution_count": 14,
     "metadata": {},
     "output_type": "execute_result"
    }
   ],
   "source": [
    "YARA"
   ]
  },
  {
   "cell_type": "code",
   "execution_count": 14,
   "metadata": {},
   "outputs": [],
   "source": [
    "for s in YARA:\n",
    "    url='https://valhalla.nextron-systems.com/info/rule/'+s\n",
    "    browser.get(url)"
   ]
  },
  {
   "cell_type": "code",
   "execution_count": 15,
   "metadata": {},
   "outputs": [
    {
     "data": {
      "text/plain": [
       "'8ec09c5b1d5a1a25e4ad9a71d38d5f42e15c707c2d1a6aea1efa8163f203851f'"
      ]
     },
     "execution_count": 15,
     "metadata": {},
     "output_type": "execute_result"
    }
   ],
   "source": [
    "browser.find_element('xpath','/html/body/section/section/div[3]/div[3]/div[2]/div[4]').text"
   ]
  },
  {
   "cell_type": "code",
   "execution_count": 16,
   "metadata": {},
   "outputs": [
    {
     "data": {
      "text/plain": [
       "'5c62626731856fb5e669473b39ac3deb0052b32981863f8cf697ae01c80512e5'"
      ]
     },
     "execution_count": 16,
     "metadata": {},
     "output_type": "execute_result"
    }
   ],
   "source": [
    "browser.find_element('xpath','/html/body/section/section/div[3]/div[3]/div[3]/div[4]').text"
   ]
  },
  {
   "cell_type": "markdown",
   "metadata": {},
   "source": [
    "### Retrieving the hashes effectively"
   ]
  },
  {
   "cell_type": "code",
   "execution_count": 18,
   "metadata": {},
   "outputs": [
    {
     "name": "stdout",
     "output_type": "stream",
     "text": [
      "8ec09c5b1d5a1a25e4ad9a71d38d5f42e15c707c2d1a6aea1efa8163f203851f\n",
      "5c62626731856fb5e669473b39ac3deb0052b32981863f8cf697ae01c80512e5\n",
      "82e4eec824567f08778d343f156cbce57ac11d4e7a695ce26db40daafdbb90a9\n",
      "8e816be1630310d66a20154da5ee95bc3d34380ac2ad36db31c49364213e8bc3\n",
      "fb2433beb961839b36198e242d0dedb7fa85ab3e08a1141d02874aa4235ac776\n",
      "8bfa4c2c1065b105ec80a86f460e0e0221b39610109cc6cd4b441dd86e6b4aef\n",
      "2084ab8f92a86a37a35879378610949e21ea7b5030313655bb82fe6c67772b0d\n",
      "89f5f29cf6b5bcfc85b506fb916da66cb7fd398cf6011d58e9409c7813e1a6f3\n",
      "379ef7c4f6dfae8cc0c8556861ff41930b88c7d9b107a5de10ccd194e1bda0cb\n",
      "27009c0abd2709cd5cac4c0135b8f3bed3229b0921601638ba9e90713ede91ea\n",
      "8738ba49fcd520789569aea7bf7af890741a745c79ae2bef49b93fb46c076c2b\n",
      "d371ee0aa4fa710c00173d296c999a5497a18b38c80095db68a2dc5e46ed35f7\n",
      "2a9257c6c74e37d051f78ed5abaa620b71b27fa3604798af077256a128d911bb\n",
      "3f4ceeada7ff021c30df1646437d2ab0e55997bbb281444501f6d1f4ea8fa209\n",
      "c239dadd55b55b817fda5b0c2bb062adf399a5b78a8b3280a473d3ae66f81777\n",
      "4cb8365b18b1c319d374be0b9d219144c20fb8714e9cf346e655f854d2c60170\n",
      "772eb611c9ca20b461536fd0bd87d553dcecf3f4c82e26c2378cad40bbf4b0b0\n",
      "2e2ad6392e75d5a5155498c2a76cb373d17ca3ad4ba57c6d33c623fca5e29342\n",
      "92072945358b605c024b9e3335fb33b82faf33048c56f5529aaf5af4bf0c1b30\n",
      "4aaa583a9c554ea8e73d4dee0d53eb12dda17df16388f96c0f6ddbaafbcda813\n",
      "637e28b38086ff9efd1606805ff57aaf6cdec4537378f019d6070a5efdc9c983\n",
      "473326da3fff09ee3e486f5f39c090690437ac8bf8bdce556c8033e8f0d730fc\n",
      "7613fbb940f83173aea126da5cf4319943155f4df25fd2e880eb0c03b1e273f0\n",
      "b3f473b0fd752fcd8b0d5983366c4ccccdacdceb8d6ba25fcb02b34c622cca78\n",
      "cfbcea795524c69a6d28fd9e60e07437d8f2abd23812109430ca2efd46606310\n",
      "337d21f964091417f22f35aee35e31d94fc3f35179c36c0304eef6e4ae983292\n",
      "6cadab96185dbe6f3a7b95cf2f97d6ac395785607baa6ed7bf363deeb59cc360\n",
      "9ca333b2e88ab35f608e447b0e3b821a6e04c4b0c76545177890fb16adcab163\n",
      "d0510e1d89640c9650782e882fe3b9afba00303b126ec38fdc5f1c1484341959\n",
      "4839fd081e720d7d5091274470679c120378196e1f4faf80c4bac08d8ee7bb8c\n",
      "2b28270c1675990a2c78b31faab547fb75948dd1c2b22e892377ee5e40abebc2\n",
      "920384692233578a59fc8de2b0205fd9fb20bb0d75c1d5a1534377abf0fc08bc\n",
      "67afa125bf8812cd943abed2ed56ed6e07853600ad609b40bdf9ad4141e612b4\n",
      "1b6af2fbbc636180dd7bae825486ccc45e42aefbb304d5f83fafca4d637c13cc\n",
      "7b295a10d54c870d59fab3a83a8b983282f6250a0be9df581334eb93d53f3488\n",
      "678ec8734367c7547794a604cc65e74a0f42320d85a6dce20c214e3b4536bb33\n",
      "3c92bfc71004340ebc00146ced294bc94f49f6a5e212016ac05e7d10fcb3312c\n",
      "8631ac37f605daacf47095955837ec5abbd5e98c540ffd58bb9bf873b1685a50\n"
     ]
    }
   ],
   "source": [
    "i=2\n",
    "while (True):\n",
    "    s='/html/body/section/section/div[3]/div[3]/div['+str(i)+']/div[4]'\n",
    "    try:\n",
    "        a=browser.find_element('xpath',s).text\n",
    "        print(a)\n",
    "        i+=1\n",
    "    except:\n",
    "        break"
   ]
  },
  {
   "cell_type": "markdown",
   "metadata": {},
   "source": [
    "# Downloading the malware collection files"
   ]
  },
  {
   "cell_type": "markdown",
   "metadata": {},
   "source": [
    "### From VirusShare"
   ]
  },
  {
   "cell_type": "code",
   "execution_count": 7,
   "metadata": {},
   "outputs": [
    {
     "data": {
      "text/plain": [
       "\" browser.get('https://virusshare.com/login')\\nbrowser.find_element('xpath','/html/body/center[2]/form/table/tbody/tr[1]/td[2]/input').send_keys('joaopaulopmauesPoli')\\nbrowser.find_element('xpath','/html/body/center[2]/form/table/tbody/tr[2]/td[2]/input').send_keys('CD7sMCLSwj8C')\\nwait.until(EC.presence_of_element_located(\\n    ('xpath','/html/body/center[2]/form/table/tbody/tr[4]/td/input')))\\nbrowser.find_element('xpath','/html/body/center[2]/form/table/tbody/tr[4]/td/input').click()\\nwait.until(EC.invisibility_of_element_located(('xpath','/html/body/center[2]/form/table/tbody/tr[4]/td/input')))\\nbrowser.get('https://virusshare.com/download?462505ad0fd657e7b031b0a3706fdcd04a20402c185b82caec91e29c2ff1e2d9') \""
      ]
     },
     "execution_count": 7,
     "metadata": {},
     "output_type": "execute_result"
    }
   ],
   "source": [
    "\"\"\" browser.get('https://virusshare.com/login')\n",
    "browser.find_element('xpath','/html/body/center[2]/form/table/tbody/tr[1]/td[2]/input').send_keys('joaopaulopmauesPoli')\n",
    "browser.find_element('xpath','/html/body/center[2]/form/table/tbody/tr[2]/td[2]/input').send_keys('CD7sMCLSwj8C')\n",
    "wait.until(EC.presence_of_element_located(\n",
    "    ('xpath','/html/body/center[2]/form/table/tbody/tr[4]/td/input')))\n",
    "browser.find_element('xpath','/html/body/center[2]/form/table/tbody/tr[4]/td/input').click()\n",
    "wait.until(EC.invisibility_of_element_located(('xpath','/html/body/center[2]/form/table/tbody/tr[4]/td/input')))\n",
    "browser.get('https://virusshare.com/download?462505ad0fd657e7b031b0a3706fdcd04a20402c185b82caec91e29c2ff1e2d9') \"\"\""
   ]
  },
  {
   "cell_type": "code",
   "execution_count": 7,
   "metadata": {},
   "outputs": [],
   "source": [
    "browser.quit()"
   ]
  },
  {
   "cell_type": "code",
   "execution_count": null,
   "metadata": {},
   "outputs": [],
   "source": [
    "import os\n",
    "import time\n",
    "from selenium import webdriver\n",
    "from selenium.webdriver.support.wait import WebDriverWait\n",
    "from selenium.webdriver.support import expected_conditions as EC\n",
    "from selenium.webdriver.common.by import By\n",
    "from watchdog.observers import Observer\n",
    "from watchdog.events import FileSystemEventHandler\n",
    "from webdriver_manager.chrome import ChromeDriverManager\n",
    "from selenium.webdriver.chrome.service import Service"
   ]
  },
  {
   "cell_type": "code",
   "execution_count": null,
   "metadata": {},
   "outputs": [],
   "source": [
    "# Caminho para a pasta de Downloads\n",
    "download_folder = os.path.expanduser('/Users/joaopaulopmaues/Downloads/')\n",
    "\n",
    "# Configurações do Chrome para downloads automáticos\n",
    "chrome_options = webdriver.ChromeOptions()\n",
    "chrome_options.add_experimental_option('prefs', {\n",
    "    \"download.default_directory\": download_folder,  # Define a pasta de downloads\n",
    "    \"download.prompt_for_download\": False,          # Não mostrar prompt para download\n",
    "    \"download.directory_upgrade\": True,             # Atualiza automaticamente o diretório\n",
    "    \"safebrowsing.enabled\": True                    # Habilita downloads seguros\n",
    "})\n",
    "chrome_options.add_argument(\"--start-maximized\")  # Maximiza o navegador\n",
    "browser = webdriver.Chrome(service=Service(ChromeDriverManager().install()), options=chrome_options)\n",
    "wait = WebDriverWait(browser, timeout=20)"
   ]
  },
  {
   "cell_type": "markdown",
   "metadata": {},
   "source": [
    "### From Hybrid-Analysis"
   ]
  },
  {
   "cell_type": "code",
   "execution_count": null,
   "metadata": {},
   "outputs": [],
   "source": [
    "\"\"\" #Logging in hybrid-analysis to download the sample for sandbox submission\n",
    "browser.get('https://www.hybrid-analysis.com/login')\n",
    "wait.until(EC.visibility_of_element_located('xpath','/html/body/div[3]/div/form/div[1]/input')).send_keys('joaopaulopmaues@poli.ufrj.br')\n",
    "wait.until(EC.visibility_of_element_located('xpath','/html/body/div[3]/div/form/div[2]/div[1]/input')).send_keys('Mydmyf-kitqah-4coxzo')\n",
    "wait.until(EC.visibility_of_element_located('xpath','/html/body/div[3]/div/form/div[3]/button')).click() \"\"\""
   ]
  },
  {
   "cell_type": "code",
   "execution_count": null,
   "metadata": {},
   "outputs": [],
   "source": [
    "#downloading sample\n",
    "sha2='8ec09c5b1d5a1a25e4ad9a71d38d5f42e15c707c2d1a6aea1efa8163f203851f' #ransomware sha256\n",
    "url='https://www.hybrid-analysis.com/download-sample/'+sha2\n",
    "browser.get(url)"
   ]
  },
  {
   "cell_type": "markdown",
   "metadata": {},
   "source": [
    "# report.irma.file_infos.sha256 will be the first string to be included in another csv for mapping and distinguishing the malwares in the dataset"
   ]
  },
  {
   "cell_type": "code",
   "execution_count": 2,
   "metadata": {},
   "outputs": [],
   "source": [
    "path='/Users/joaopaulopmaues/Downloads/5402954/reports/report.json'"
   ]
  },
  {
   "cell_type": "code",
   "execution_count": null,
   "metadata": {},
   "outputs": [
    {
     "name": "stdout",
     "output_type": "stream",
     "text": [
      "KERNEL32dll\n",
      "ADVAPI32dll\n",
      "WS2_32dll\n",
      "MSVCP60dll\n",
      "iphlpapidll\n",
      "WININETdll\n",
      "MSVCRTdll\n",
      "no mutex\n"
     ]
    }
   ],
   "source": [
    "with open(path, 'r', encoding='utf-8') as jsonfile:\n",
    "    report = json.load(jsonfile, object_hook = lambda d: SimpleNamespace(**d))\n",
    "#print(report['signatures']['marks']['call'])\n",
    "\"\"\" for x in report.signatures:\n",
    "    for y in x.marks:\n",
    "        if y.type=='call':\n",
    "            print(y.call.api) \"\"\"\n",
    "            \n",
    "            \n",
    "# report.irma.file_infos.md5 will be the first string to be included in the csv\n",
    "try:\n",
    "    for x in report.behavior.processes:\n",
    "        for y in x.calls:\n",
    "            try:\n",
    "                print(y.api)\n",
    "            except:\n",
    "                continue\n",
    "except:\n",
    "    print(\"no api call\")\n",
    "try:\n",
    "    for x in report.static.pe_imports:\n",
    "        print(''.join(char for char in x.dll if char != '.'))\n",
    "except:\n",
    "    \"no dll\"\n",
    "try:\n",
    "    for x in report.behavior.summary.mutex:\n",
    "        print(x)\n",
    "except:\n",
    "    print(\"no mutex\")\n",
    "    #if el.type=='call':\n",
    "    #    print(el)\n",
    "    #    break"
   ]
  },
  {
   "cell_type": "code",
   "execution_count": 1,
   "metadata": {},
   "outputs": [],
   "source": [
    "from valhalla_integration import list_rules\n",
    "import os\n",
    "import time\n",
    "from selenium import webdriver\n",
    "from selenium.webdriver.support.wait import WebDriverWait\n",
    "from selenium.webdriver.support import expected_conditions as EC\n",
    "from selenium.webdriver.common.by import By\n",
    "from watchdog.observers import Observer\n",
    "from watchdog.events import FileSystemEventHandler\n",
    "from webdriver_manager.chrome import ChromeDriverManager\n",
    "from selenium.webdriver.chrome.service import Service"
   ]
  },
  {
   "cell_type": "code",
   "execution_count": 32,
   "metadata": {},
   "outputs": [],
   "source": [
    "# Caminho para a pasta de Downloads\n",
    "download_folder = os.path.expanduser('/Users/joaopaulopmaues/Downloads/')\n",
    "\n",
    "# Configurações do Chrome para downloads automáticos\n",
    "chrome_options = webdriver.ChromeOptions()\n",
    "chrome_options.add_experimental_option('prefs', {\n",
    "    \"download.default_directory\": download_folder,  # Define a pasta de downloads\n",
    "    \"download.prompt_for_download\": False,          # Não mostrar prompt para download\n",
    "    \"download.directory_upgrade\": True,             # Atualiza automaticamente o diretório\n",
    "    \"safebrowsing.enabled\": True                    # Habilita downloads seguros\n",
    "})\n",
    "chrome_options.add_argument(\"--start-maximized\")  # Maximiza o navegador\n",
    "browser = webdriver.Chrome(service=Service(ChromeDriverManager().install()), options=chrome_options)\n",
    "wait = WebDriverWait(browser, timeout=20)\n"
   ]
  },
  {
   "cell_type": "code",
   "execution_count": 3,
   "metadata": {},
   "outputs": [
    {
     "name": "stdout",
     "output_type": "stream",
     "text": [
      "0 2\n",
      "2025-03-20 00:00:00 2022-12-14 00:00:00\n",
      "1 2\n",
      "2025-03-20 00:00:00 2022-12-14 00:00:00\n",
      "0 2\n",
      "2025-03-20 00:00:00 2022-12-14 00:00:00\n",
      "1 2\n",
      "2022-12-15 00:00:00 2022-12-14 00:00:00\n"
     ]
    },
    {
     "data": {
      "text/plain": [
       "['MAL_XML_Injector_Mar25',\n",
       " 'MAL_ANELLDR_Loader_Mar25',\n",
       " 'SUSP_Unsigned_K7SysMn1_DLL_Dec22']"
      ]
     },
     "execution_count": 3,
     "metadata": {},
     "output_type": "execute_result"
    }
   ],
   "source": [
    "list_rules(browser,'MirrorFace','2022-12-14',2)"
   ]
  },
  {
   "cell_type": "code",
   "execution_count": 1,
   "metadata": {},
   "outputs": [],
   "source": [
    "from selenium.webdriver.support.wait import WebDriverWait\n",
    "from selenium.webdriver.support import expected_conditions as EC\n",
    "from selenium.webdriver.common.by import By\n",
    "from selenium.webdriver.common.keys import Keys\n",
    "from webdriver_manager.chrome import ChromeDriverManager\n",
    "from selenium.webdriver.chrome.service import Service\n",
    "from selenium.webdriver.common.action_chains import ActionChains\n",
    "\n",
    "import os\n",
    "from selenium import webdriver"
   ]
  },
  {
   "cell_type": "code",
   "execution_count": 2,
   "metadata": {},
   "outputs": [],
   "source": [
    "# Caminho para a pasta de Downloads\n",
    "download_folder = os.path.expanduser('/Users/joaopaulopmaues/Downloads/')\n",
    "\n",
    "# Configurações do Chrome para downloads automáticos\n",
    "chrome_options = webdriver.ChromeOptions()\n",
    "chrome_options.add_experimental_option('prefs', {\n",
    "    \"download.default_directory\": download_folder,  # Define a pasta de downloads\n",
    "    \"download.prompt_for_download\": False,          # Não mostrar prompt para download\n",
    "    \"download.directory_upgrade\": True,             # Atualiza automaticamente o diretório\n",
    "    \"safebrowsing.enabled\": True                    # Habilita downloads seguros\n",
    "})\n",
    "chrome_options.add_argument(\"--start-maximized\")  # Maximiza o navegador\n",
    "\n",
    "browser = webdriver.Chrome(service=Service(ChromeDriverManager().install()), options=chrome_options)\n",
    "wait = WebDriverWait(browser, timeout=20)"
   ]
  },
  {
   "cell_type": "code",
   "execution_count": 24,
   "metadata": {},
   "outputs": [
    {
     "name": "stdout",
     "output_type": "stream",
     "text": [
      "Foi\n"
     ]
    }
   ],
   "source": [
    "browser.get('https://virusshare.com/login')\n",
    "browser.find_element('xpath','/html/body/center[2]/form/table/tbody/tr[1]/td[2]/input').send_keys('joaopaulopmauesPoli')\n",
    "browser.find_element('xpath','/html/body/center[2]/form/table/tbody/tr[2]/td[2]/input').send_keys('CD7sMCLSwj8C')\n",
    "wait.until(EC.presence_of_element_located(\n",
    "    ('xpath','/html/body/center[2]/form/table/tbody/tr[4]/td/input')))\n",
    "browser.find_element('xpath','/html/body/center[2]/form/table/tbody/tr[4]/td/input').click()\n",
    "wait.until(EC.invisibility_of_element_located(('xpath','/html/body/center[2]/form/table/tbody/tr[4]/td/input')))\n",
    "browser.get('https://virusshare.com/file?462505ad0fd657e7b031b0a3706fdcd04a20402c185b82caec91e29c2ff1e2d9')\n",
    "try:\n",
    "    A=browser.find_element('xpath','/html/body/center[2]')\n",
    "    if A.text=='No results.':\n",
    "        print(A.text)\n",
    "except:\n",
    "    try:\n",
    "        A=browser.find_element('xpath','/html/body/p/table/tbody/tr[6]/td[2]')\n",
    "        #browser.get('https://virusshare.com/download?462505ad0fd657e7b031b0a3706fdcd04a20402c185b82caec91e29c2ff1e2d9')\n",
    "        print('Foi')\n",
    "    except:\n",
    "        print('Nao foi')\n",
    "        pass\n",
    "    pass"
   ]
  },
  {
   "cell_type": "code",
   "execution_count": 19,
   "metadata": {},
   "outputs": [],
   "source": [
    "A=browser.find_element('xpath','/html/body/center[2]')"
   ]
  },
  {
   "cell_type": "code",
   "execution_count": 22,
   "metadata": {},
   "outputs": [
    {
     "data": {
      "text/plain": [
       "selenium.webdriver.remote.webelement.WebElement"
      ]
     },
     "execution_count": 22,
     "metadata": {},
     "output_type": "execute_result"
    }
   ],
   "source": [
    "type(A)#.text"
   ]
  },
  {
   "cell_type": "code",
   "execution_count": 66,
   "metadata": {},
   "outputs": [],
   "source": [
    "browser.quit()"
   ]
  },
  {
   "cell_type": "code",
   "execution_count": 69,
   "metadata": {},
   "outputs": [
    {
     "data": {
      "text/plain": [
       "True"
      ]
     },
     "execution_count": 69,
     "metadata": {},
     "output_type": "execute_result"
    }
   ],
   "source": [
    "'.zip' in \"VirusShare_5748392ytrue9w4.zip\""
   ]
  },
  {
   "cell_type": "code",
   "execution_count": 6,
   "metadata": {},
   "outputs": [],
   "source": [
    "import hybrid_analysis as ha"
   ]
  },
  {
   "cell_type": "code",
   "execution_count": 7,
   "metadata": {},
   "outputs": [],
   "source": [
    "from selenium.webdriver.support.wait import WebDriverWait\n",
    "from selenium.webdriver.support import expected_conditions as EC\n",
    "from selenium.webdriver.common.by import By\n",
    "from selenium.webdriver.common.keys import Keys\n",
    "from webdriver_manager.chrome import ChromeDriverManager\n",
    "from selenium.webdriver.chrome.service import Service\n",
    "from selenium.webdriver.common.action_chains import ActionChains\n",
    "\n",
    "import os\n",
    "from selenium import webdriver"
   ]
  },
  {
   "cell_type": "code",
   "execution_count": 8,
   "metadata": {},
   "outputs": [],
   "source": [
    "# Caminho para a pasta de Downloads\n",
    "download_folder = os.path.expanduser('/Users/joaopaulopmaues/Downloads/')\n",
    "\n",
    "# Configurações do Chrome para downloads automáticos\n",
    "chrome_options = webdriver.ChromeOptions()\n",
    "chrome_options.add_experimental_option('prefs', {\n",
    "    \"download.default_directory\": download_folder,  # Define a pasta de downloads\n",
    "    \"download.prompt_for_download\": False,          # Não mostrar prompt para download\n",
    "    \"download.directory_upgrade\": True,             # Atualiza automaticamente o diretório\n",
    "    \"safebrowsing.enabled\": True                    # Habilita downloads seguros\n",
    "})\n",
    "chrome_options.add_argument(\"--start-maximized\")  # Maximiza o navegador\n",
    "\n",
    "browser = webdriver.Chrome(service=Service(ChromeDriverManager().install()), options=chrome_options)\n",
    "wait = WebDriverWait(browser, timeout=20)"
   ]
  },
  {
   "cell_type": "code",
   "execution_count": 9,
   "metadata": {},
   "outputs": [
    {
     "name": "stdout",
     "output_type": "stream",
     "text": [
      "Aguardando o término do download...\n",
      "Download detectado: /Users/joaopaulopmaues/Downloads/Não confirmado 320862.crdownload\n",
      "Download concluído: /Users/joaopaulopmaues/Downloads/Não confirmado 320862.crdownload\n"
     ]
    },
    {
     "data": {
      "text/plain": [
       "'/Users/joaopaulopmaues/Downloads/Não confirmado 320862.crdownload'"
      ]
     },
     "execution_count": 9,
     "metadata": {},
     "output_type": "execute_result"
    }
   ],
   "source": [
    "ha.download_sample('ed01ebfbc9eb5bbea545af4d01bf5f1071661840480439c6e5babe8e080e41aa',browser)"
   ]
  },
  {
   "cell_type": "code",
   "execution_count": 5,
   "metadata": {},
   "outputs": [],
   "source": [
    "browser.quit()"
   ]
  },
  {
   "cell_type": "code",
   "execution_count": 9,
   "metadata": {},
   "outputs": [
    {
     "name": "stdout",
     "output_type": "stream",
     "text": [
      "foi\n"
     ]
    }
   ],
   "source": [
    "import time\n",
    "time.sleep(2)\n",
    "print('foi')"
   ]
  },
  {
   "cell_type": "code",
   "execution_count": null,
   "metadata": {},
   "outputs": [],
   "source": []
  }
 ],
 "metadata": {
  "kernelspec": {
   "display_name": "base",
   "language": "python",
   "name": "python3"
  },
  "language_info": {
   "codemirror_mode": {
    "name": "ipython",
    "version": 3
   },
   "file_extension": ".py",
   "mimetype": "text/x-python",
   "name": "python",
   "nbconvert_exporter": "python",
   "pygments_lexer": "ipython3",
   "version": "3.10.14"
  }
 },
 "nbformat": 4,
 "nbformat_minor": 2
}
